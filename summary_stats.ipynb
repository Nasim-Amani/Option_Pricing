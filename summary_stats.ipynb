{
  "nbformat": 4,
  "nbformat_minor": 0,
  "metadata": {
    "colab": {
      "provenance": []
    },
    "kernelspec": {
      "name": "python3",
      "display_name": "Python 3"
    },
    "language_info": {
      "name": "python"
    }
  },
  "cells": [
    {
      "cell_type": "code",
      "execution_count": 6,
      "metadata": {
        "id": "WTfDgFB_jC4b"
      },
      "outputs": [],
      "source": [
        "import pandas as pd\n",
        "import numpy as np\n",
        "\n",
        "# Load dataset\n",
        "file_path = \"alldata_fi.csv\"\n",
        "df = pd.read_csv(file_path)\n",
        "\n",
        "# Convert Date column to datetime and sort\n",
        "df['Date'] = pd.to_datetime(df['Date'])\n",
        "df.set_index('Date', inplace=True)\n",
        "\n",
        "# Select relevant columns\n",
        "columns_needed = ['option_name', 'Closing_Price_(Option)', 'Exercise_Price',\n",
        "                  'Spot_Price_of_Asset', 'riskfreerate', 'time_to_expiration']\n",
        "df = df[columns_needed]\n",
        "summary_stats = df.describe()\n",
        "summary_stats\n",
        "# Save to Excel\n",
        "summary_stats.to_excel(\"summary_statistics.xlsx\")"
      ]
    },
    {
      "cell_type": "code",
      "source": [
        "# Load dataset\n",
        "file_path = \"alldata_fi.csv\"\n",
        "df = pd.read_csv(file_path)\n",
        "\n",
        "# Convert Date column to datetime and sort\n",
        "df['Date'] = pd.to_datetime(df['Date'])\n",
        "\n",
        "# Select relevant columns\n",
        "columns_needed = ['Date', 'option_name', 'Closing_Price_(Option)', 'Exercise_Price',\n",
        "                  'Spot_Price_of_Asset', 'riskfreerate', 'time_to_expiration']\n",
        "df = df[columns_needed]\n",
        "\n",
        "df = df.sort_values(by=['option_name', 'Date'])\n",
        "df.set_index('Date', inplace=True)\n",
        "\n",
        "#Calculate daily log returns for each option_name group\n",
        "df['log_return'] = df.groupby('option_name')['Spot_Price_of_Asset'].transform(lambda x: np.log(x / x.shift(1)))\n",
        "\n",
        "#Calculate 30-day rolling historical volatility (annualized with √240)\n",
        "def compute_vol(group):\n",
        "    group['volatility'] = group['log_return'].rolling(window=30).std() * np.sqrt(240)\n",
        "    return group\n",
        "\n",
        "df = df.groupby('option_name', group_keys=False).apply(compute_vol)\n",
        "\n",
        "# Drop log_return\n",
        "df.drop(columns=['log_return'], inplace=True)\n",
        "df = df.dropna(subset=['volatility'])\n",
        "\n",
        "summary_stats = df.describe()\n",
        "summary_stats\n",
        "# Save to Excel\n",
        "summary_stats.to_excel(\"summary_statistics+volatility.xlsx\")"
      ],
      "metadata": {
        "colab": {
          "base_uri": "https://localhost:8080/"
        },
        "id": "XfgyIoEPjvZT",
        "outputId": "d2eda0bd-df09-452b-df3b-bc619be9c9a5"
      },
      "execution_count": 9,
      "outputs": [
        {
          "output_type": "stream",
          "name": "stderr",
          "text": [
            "<ipython-input-9-a91bff7755c9>:24: DeprecationWarning: DataFrameGroupBy.apply operated on the grouping columns. This behavior is deprecated, and in a future version of pandas the grouping columns will be excluded from the operation. Either pass `include_groups=False` to exclude the groupings or explicitly select the grouping columns after groupby to silence this warning.\n",
            "  df = df.groupby('option_name', group_keys=False).apply(compute_vol)\n"
          ]
        }
      ]
    }
  ]
}